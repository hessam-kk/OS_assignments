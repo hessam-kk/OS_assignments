{
 "cells": [
  {
   "cell_type": "code",
   "execution_count": 16,
   "metadata": {},
   "outputs": [
    {
     "data": {
      "text/plain": [
       "[[1, 2, 3, 4, 5, 6, 7, 8],\n",
       " [3, 3, 0, 6, 4, 2, 0, 1],\n",
       " [14, 15, 9, 7, 14, 12, 7, 5]]"
      ]
     },
     "execution_count": 16,
     "metadata": {},
     "output_type": "execute_result"
    }
   ],
   "source": [
    "import random\n",
    "n = 8\n",
    "arr = [[(i) for i in range(1, n+1)], [random.randint(0, 6) for _ in range(1, n+1)], [random.randint(5, 15) for _ in range(1, n+1)]]\n",
    "arr"
   ]
  },
  {
   "cell_type": "code",
   "execution_count": 17,
   "metadata": {},
   "outputs": [
    {
     "data": {
      "text/plain": [
       "[[3, 7, 8, 6, 1, 2, 5, 4],\n",
       " [0, 0, 1, 2, 3, 3, 4, 6],\n",
       " [9, 7, 5, 12, 14, 15, 14, 7]]"
      ]
     },
     "execution_count": 17,
     "metadata": {},
     "output_type": "execute_result"
    }
   ],
   "source": [
    "def arrangeArrival(n, array):\n",
    "    for i in range(0, n):\n",
    "        for j in range(i+1, n):\n",
    "            if array[1][i] > array[1][j]:\n",
    "                for k in range(0, 3):\n",
    "                    array[k][i], array[k][j] = array[k][j], array[k][i]\n",
    "arrangeArrival(n, arr)\n",
    "arr "
   ]
  },
  {
   "cell_type": "markdown",
   "metadata": {},
   "source": [
    "Round Robin"
   ]
  },
  {
   "cell_type": "code",
   "execution_count": 20,
   "metadata": {},
   "outputs": [
    {
     "name": "stdout",
     "output_type": "stream",
     "text": [
      "Processes Burst Time\t Waiting Time Turn-Around Time\n",
      "  1 \t\t 5 \t\t 28 \t\t 33\n",
      "  2 \t\t 11 \t\t 61 \t\t 72\n",
      "  3 \t\t 9 \t\t 54 \t\t 63\n",
      "  4 \t\t 7 \t\t 45 \t\t 52\n",
      "  5 \t\t 12 \t\t 62 \t\t 74\n",
      "  6 \t\t 11 \t\t 64 \t\t 75\n",
      "  7 \t\t 14 \t\t 67 \t\t 81\n",
      "  8 \t\t 14 \t\t 69 \t\t 83\n",
      "\n",
      "Average waiting time = 56.25000 \n",
      "Average turn around time = 66.62500 \n"
     ]
    }
   ],
   "source": [
    "# Python3 program for implementation of\n",
    "# RR scheduling\n",
    "\n",
    "# Function to find the waiting time\n",
    "# for all processes\n",
    "def findWaitingTime(processes, n, bt,\n",
    "\t\t\t\t\t\twt, quantum):\n",
    "\trem_bt = [0] * n\n",
    "\n",
    "\t# Copy the burst time into rt[]\n",
    "\tfor i in range(n):\n",
    "\t\trem_bt[i] = bt[i]\n",
    "\tt = 0 # Current time\n",
    "\n",
    "\t# Keep traversing processes in round\n",
    "\t# robin manner until all of them are\n",
    "\t# not done.\n",
    "\twhile(1):\n",
    "\t\tdone = True\n",
    "\n",
    "\t\t# Traverse all processes one by\n",
    "\t\t# one repeatedly\n",
    "\t\tfor i in range(n):\n",
    "\t\t\t\n",
    "\t\t\t# If burst time of a process is greater\n",
    "\t\t\t# than 0 then only need to process further\n",
    "\t\t\tif (rem_bt[i] > 0) :\n",
    "\t\t\t\tdone = False # There is a pending process\n",
    "\t\t\t\t\n",
    "\t\t\t\tif (rem_bt[i] > quantum) :\n",
    "\t\t\t\t\n",
    "\t\t\t\t\t# Increase the value of t i.e. shows\n",
    "\t\t\t\t\t# how much time a process has been processed\n",
    "\t\t\t\t\tt += quantum\n",
    "\n",
    "\t\t\t\t\t# Decrease the burst_time of current\n",
    "\t\t\t\t\t# process by quantum\n",
    "\t\t\t\t\trem_bt[i] -= quantum\n",
    "\t\t\t\t\n",
    "\t\t\t\t# If burst time is smaller than or equal\n",
    "\t\t\t\t# to quantum. Last cycle for this process\n",
    "\t\t\t\telse:\n",
    "\t\t\t\t\n",
    "\t\t\t\t\t# Increase the value of t i.e. shows\n",
    "\t\t\t\t\t# how much time a process has been processed\n",
    "\t\t\t\t\tt = t + rem_bt[i]\n",
    "\n",
    "\t\t\t\t\t# Waiting time is current time minus\n",
    "\t\t\t\t\t# time used by this process\n",
    "\t\t\t\t\twt[i] = t - bt[i]\n",
    "\n",
    "\t\t\t\t\t# As the process gets fully executed\n",
    "\t\t\t\t\t# make its remaining burst time = 0\n",
    "\t\t\t\t\trem_bt[i] = 0\n",
    "\t\t\t\t\n",
    "\t\t# If all processes are done\n",
    "\t\tif (done == True):\n",
    "\t\t\tbreak\n",
    "\t\t\t\n",
    "# Function to calculate turn around time\n",
    "def findTurnAroundTime(processes, n, bt, wt, tat):\n",
    "\t\n",
    "\t# Calculating turnaround time\n",
    "\tfor i in range(n):\n",
    "\t\ttat[i] = bt[i] + wt[i]\n",
    "\n",
    "\n",
    "# Function to calculate average waiting\n",
    "# and turn-around times.\n",
    "def findavgTime(processes, n, bt, quantum):\n",
    "\twt = [0] * n\n",
    "\ttat = [0] * n\n",
    "\n",
    "\t# Function to find waiting time\n",
    "\t# of all processes\n",
    "\tfindWaitingTime(processes, n, bt,\n",
    "\t\t\t\t\t\twt, quantum)\n",
    "\n",
    "\t# Function to find turn around time\n",
    "\t# for all processes\n",
    "\tfindTurnAroundTime(processes, n, bt,\n",
    "\t\t\t\t\t\t\t\twt, tat)\n",
    "\n",
    "\t# Display processes along with all details\n",
    "\tprint(\"Processes Burst Time\t Waiting\",\n",
    "\t\t\t\t\t\"Time Turn-Around Time\")\n",
    "\ttotal_wt = 0\n",
    "\ttotal_tat = 0\n",
    "\tfor i in range(n):\n",
    "\n",
    "\t\ttotal_wt = total_wt + wt[i]\n",
    "\t\ttotal_tat = total_tat + tat[i]\n",
    "\t\tprint(\" \", i + 1, \"\\t\\t\", bt[i],\n",
    "\t\t\t\"\\t\\t\", wt[i], \"\\t\\t\", tat[i])\n",
    "\n",
    "\tprint(\"\\nAverage waiting time = %.5f \"%(total_wt /n) )\n",
    "\tprint(\"Average turn around time = %.5f \"% (total_tat / n))\n",
    "\t\n",
    "# Driver code\n",
    "if __name__ ==\"__main__\":\n",
    "\t\n",
    "\t# Process id's\n",
    "\tn = 8\n",
    "\tproc = [_ for _ in range(1, n+1)]\n",
    "\n",
    "\t# Burst time of all processes\n",
    "\tburst_time = [random.randint(5, 15) for _ in range(n)]\n",
    "\n",
    "\t# Time quantum\n",
    "\tquantum = 2;\n",
    "\tfindavgTime(proc, n, burst_time, quantum)\n",
    "\n",
    "# This code is contributed by\n",
    "# Shubham Singh(SHUBHAMSINGH10)\n",
    "# GeeksForGeeks\n"
   ]
  }
 ],
 "metadata": {
  "interpreter": {
   "hash": "b67beeb5404f20bdbb893c5970f469f79536ec6c018c965d78bf94b51c216179"
  },
  "kernelspec": {
   "display_name": "Python 3.10.2 64-bit",
   "language": "python",
   "name": "python3"
  },
  "language_info": {
   "codemirror_mode": {
    "name": "ipython",
    "version": 3
   },
   "file_extension": ".py",
   "mimetype": "text/x-python",
   "name": "python",
   "nbconvert_exporter": "python",
   "pygments_lexer": "ipython3",
   "version": "3.10.2"
  },
  "orig_nbformat": 4
 },
 "nbformat": 4,
 "nbformat_minor": 2
}
